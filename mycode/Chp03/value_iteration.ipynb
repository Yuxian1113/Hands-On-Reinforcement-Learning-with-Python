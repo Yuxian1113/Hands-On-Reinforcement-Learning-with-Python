{
 "cells": [
  {
   "cell_type": "code",
   "execution_count": 1,
   "id": "44eb0abe",
   "metadata": {},
   "outputs": [],
   "source": [
    "import gymnasium as gym\n",
    "import numpy as np"
   ]
  },
  {
   "cell_type": "code",
   "execution_count": 3,
   "id": "d3858d49",
   "metadata": {},
   "outputs": [
    {
     "data": {
      "text/plain": [
       "(0, {'prob': 1})"
      ]
     },
     "execution_count": 3,
     "metadata": {},
     "output_type": "execute_result"
    }
   ],
   "source": [
    "env = gym.make('FrozenLake-v1', render_mode='human')\n",
    "env.reset()\n",
    "# env.render()"
   ]
  },
  {
   "cell_type": "markdown",
   "id": "9994d951",
   "metadata": {},
   "source": [
    "- State: 16 boxes in the grid\n",
    "- Actions\n",
    "    - Up: 0\n",
    "    - Down: 1\n",
    "    - Left: 2\n",
    "    - Right: 3\n",
    "- Transition possibilities\n",
    "- Rewards possibilities"
   ]
  },
  {
   "cell_type": "code",
   "execution_count": 8,
   "id": "76078aed",
   "metadata": {},
   "outputs": [
    {
     "name": "stdout",
     "output_type": "stream",
     "text": [
      "Value-iteration converged at iteration 1373\n"
     ]
    },
    {
     "ename": "ValueError",
     "evalue": "setting an array element with a sequence.",
     "output_type": "error",
     "traceback": [
      "\u001b[0;31m---------------------------------------------------------------------------\u001b[0m",
      "\u001b[0;31mTypeError\u001b[0m                                 Traceback (most recent call last)",
      "\u001b[0;31mTypeError\u001b[0m: only size-1 arrays can be converted to Python scalars",
      "\nThe above exception was the direct cause of the following exception:\n",
      "\u001b[0;31mValueError\u001b[0m                                Traceback (most recent call last)",
      "Cell \u001b[0;32mIn[8], line 33\u001b[0m\n\u001b[1;32m     30\u001b[0m     \u001b[38;5;28;01mreturn\u001b[39;00m policy\n\u001b[1;32m     32\u001b[0m optimal_value_function \u001b[38;5;241m=\u001b[39m value_iteration(env\u001b[38;5;241m=\u001b[39menv,gamma\u001b[38;5;241m=\u001b[39m\u001b[38;5;241m1.0\u001b[39m)\n\u001b[0;32m---> 33\u001b[0m optimal_policy \u001b[38;5;241m=\u001b[39m \u001b[43mextract_policy\u001b[49m\u001b[43m(\u001b[49m\u001b[43moptimal_value_function\u001b[49m\u001b[43m,\u001b[49m\u001b[43m \u001b[49m\u001b[43mgamma\u001b[49m\u001b[38;5;241;43m=\u001b[39;49m\u001b[38;5;241;43m1.0\u001b[39;49m\u001b[43m)\u001b[49m\n\u001b[1;32m     34\u001b[0m \u001b[38;5;28mprint\u001b[39m(optimal_policy)\n",
      "Cell \u001b[0;32mIn[8], line 28\u001b[0m, in \u001b[0;36mextract_policy\u001b[0;34m(value_table, gamma)\u001b[0m\n\u001b[1;32m     26\u001b[0m         \u001b[38;5;28;01mfor\u001b[39;00m next_sr \u001b[38;5;129;01min\u001b[39;00m env\u001b[38;5;241m.\u001b[39mP[state][action]:\n\u001b[1;32m     27\u001b[0m             trans_prob, next_state, reward_prob, _ \u001b[38;5;241m=\u001b[39m next_sr\n\u001b[0;32m---> 28\u001b[0m             \u001b[43mQ_table\u001b[49m\u001b[43m[\u001b[49m\u001b[43maction\u001b[49m\u001b[43m]\u001b[49m \u001b[38;5;241m+\u001b[39m\u001b[38;5;241m=\u001b[39m (trans_prob \u001b[38;5;241m*\u001b[39m (reward_prob \u001b[38;5;241m+\u001b[39m gamma \u001b[38;5;241m*\u001b[39mvalue_table[next_state]))\n\u001b[1;32m     29\u001b[0m     policy[state] \u001b[38;5;241m=\u001b[39m np\u001b[38;5;241m.\u001b[39margmax(Q_table)\n\u001b[1;32m     30\u001b[0m \u001b[38;5;28;01mreturn\u001b[39;00m policy\n",
      "\u001b[0;31mValueError\u001b[0m: setting an array element with a sequence."
     ]
    }
   ],
   "source": [
    "def value_iteration(env, gamma=1.0):\n",
    "    value_table = np.zeros(env.observation_space.n) # initialize the value table with 0 for all 16 states\n",
    "    NUM_ITER = 100000\n",
    "    threshold = 1e-20\n",
    "    for i in range(NUM_ITER):\n",
    "        updated_value_table = np.copy(value_table)\n",
    "        for state in range(env.observation_space.n):\n",
    "            Q_value=[] # a list to store the Q value of a specified state\n",
    "            for action in range(env.action_space.n):\n",
    "                next_states_rewards=[]\n",
    "                for next_sr in env.P[state][action]:\n",
    "                    trans_prob, next_state, reward_prob, _ =next_sr\n",
    "                    next_states_rewards.append((trans_prob*(reward_prob+gamma*updated_value_table[next_state])))\n",
    "                Q_value.append(np.sum(next_states_rewards))\n",
    "            value_table[state]=max(Q_value)\n",
    "        if (np.sum(np.fabs(updated_value_table-value_table))<=threshold):\n",
    "            print(f'Value-iteration converged at iteration {i+1}')\n",
    "            break\n",
    "    return value_table, Q_value\n",
    "                \n",
    "def extract_policy(value_table, gamma = 1.0):\n",
    "    policy = np.zeros(env.observation_space.n)\n",
    "    for state in range(env.observation_space.n):\n",
    "        Q_table = np.zeros(env.action_space.n)\n",
    "        for action in range(env.action_space.n):\n",
    "            for next_sr in env.P[state][action]:\n",
    "                trans_prob, next_state, reward_prob, _ = next_sr\n",
    "                Q_table[action] += (trans_prob * (reward_prob + gamma *value_table[next_state]))\n",
    "        policy[state] = np.argmax(Q_table)\n",
    "    return policy\n",
    "\n",
    "optimal_value_function = value_iteration(env=env,gamma=1.0)\n",
    "optimal_policy = extract_policy(optimal_value_function, gamma=1.0)\n",
    "print(optimal_policy)"
   ]
  },
  {
   "cell_type": "code",
   "execution_count": 7,
   "id": "99ecefe9",
   "metadata": {},
   "outputs": [
    {
     "name": "stdout",
     "output_type": "stream",
     "text": [
      "Value-iteration converged at iteration 1373\n"
     ]
    }
   ],
   "source": []
  },
  {
   "cell_type": "code",
   "execution_count": null,
   "id": "160a48ea",
   "metadata": {},
   "outputs": [],
   "source": []
  }
 ],
 "metadata": {
  "kernelspec": {
   "display_name": "Python 3 (ipykernel)",
   "language": "python",
   "name": "python3"
  },
  "language_info": {
   "codemirror_mode": {
    "name": "ipython",
    "version": 3
   },
   "file_extension": ".py",
   "mimetype": "text/x-python",
   "name": "python",
   "nbconvert_exporter": "python",
   "pygments_lexer": "ipython3",
   "version": "3.10.11"
  }
 },
 "nbformat": 4,
 "nbformat_minor": 5
}
